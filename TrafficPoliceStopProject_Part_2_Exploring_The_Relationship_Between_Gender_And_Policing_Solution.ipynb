{
  "cells": [
    {
      "cell_type": "markdown",
      "metadata": {
        "id": "view-in-github",
        "colab_type": "text"
      },
      "source": [
        "<a href=\"https://colab.research.google.com/github/Gltknzk/Course/blob/master/TrafficPoliceStopProject_Part_2_Exploring_The_Relationship_Between_Gender_And_Policing_Solution.ipynb\" target=\"_parent\"><img src=\"https://colab.research.google.com/assets/colab-badge.svg\" alt=\"Open In Colab\"/></a>"
      ]
    },
    {
      "cell_type": "markdown",
      "metadata": {
        "id": "5Tv3OaKFvs2D"
      },
      "source": [
        "___\n",
        "\n",
        "<p style='text-align: center;'><img src='https://docs.google.com/uc?id=1lY0Uj5R04yMY3-ZppPWxqCr5pvBLYPnV' class='img-fluid' alt='CLRSWY'></p>\n",
        "\n",
        "___"
      ]
    },
    {
      "cell_type": "markdown",
      "metadata": {
        "id": "yuyNBznovs2O"
      },
      "source": [
        "<h1><p style='text-align: center;'>Traffic Police Stops<br>Part - 2</p><h1> - Exploring The Relationship Between Gender And Policing <img src='https://docs.google.com/uc?id=17CPCwi3_VvzcS87TOsh4_U8eExOhL6Ki' class='img-fluid' alt='CLRSWY' width='200' height='100'> "
      ]
    },
    {
      "cell_type": "markdown",
      "metadata": {
        "id": "5mof1Evwvs2R"
      },
      "source": [
        "Does the ``gender`` of a driver have an impact on police behavior during a traffic stop? **In this chapter**, you will explore that question while practicing filtering, grouping, method chaining, Boolean math, string methods, and more!"
      ]
    },
    {
      "cell_type": "markdown",
      "metadata": {
        "id": "r_L0HWAjvs2S"
      },
      "source": [
        "***"
      ]
    },
    {
      "cell_type": "markdown",
      "metadata": {
        "id": "Ed1BjRN8vs2T"
      },
      "source": [
        "## Examining traffic violations"
      ]
    },
    {
      "cell_type": "markdown",
      "metadata": {
        "id": "9RPEoexAvs2U"
      },
      "source": [
        "Before comparing the violations being committed by each gender, you should examine the ``violations`` committed by all drivers to get a baseline understanding of the data.\n",
        "\n",
        "In this exercise, you'll count the unique values in the ``violation`` column, and then separately express those counts as proportions."
      ]
    },
    {
      "cell_type": "markdown",
      "metadata": {
        "id": "HxN8TohRvs2e"
      },
      "source": [
        "> Before starting your work in this section **repeat the steps which you did in the previos chapter for preparing the data** or **use the csv file you created at the end of chapter-1.*** Continue to this chapter based on where you were in the end of the previous chapter."
      ]
    },
    {
      "cell_type": "code",
      "execution_count": null,
      "metadata": {
        "id": "3gVPFEqqvs2g"
      },
      "outputs": [],
      "source": [
        "import pandas as pd\n",
        "import numpy as np\n",
        "import matplotlib.pyplot as plt\n",
        "import seaborn as sns\n",
        "from scipy import stats\n",
        "from scipy import math"
      ]
    },
    {
      "cell_type": "code",
      "execution_count": null,
      "metadata": {
        "id": "I2Oud9jqvs2j",
        "outputId": "2795176d-14c8-47b2-b649-cb699c334684"
      },
      "outputs": [
        {
          "name": "stderr",
          "output_type": "stream",
          "text": [
            "C:\\Users\\Toshiba\\anaconda3\\lib\\site-packages\\IPython\\core\\interactiveshell.py:3444: DtypeWarning: Columns (3) have mixed types.Specify dtype option on import or set low_memory=False.\n",
            "  exec(code_obj, self.user_global_ns, self.user_ns)\n"
          ]
        }
      ],
      "source": [
        "ri = pd.read_csv('RI_Part_1.csv')"
      ]
    },
    {
      "cell_type": "code",
      "execution_count": null,
      "metadata": {
        "id": "9-cZ0Z3zvs2m",
        "outputId": "959e326f-83cd-44d1-b4fe-34a276f7144c"
      },
      "outputs": [
        {
          "data": {
            "text/html": [
              "<div>\n",
              "<style scoped>\n",
              "    .dataframe tbody tr th:only-of-type {\n",
              "        vertical-align: middle;\n",
              "    }\n",
              "\n",
              "    .dataframe tbody tr th {\n",
              "        vertical-align: top;\n",
              "    }\n",
              "\n",
              "    .dataframe thead th {\n",
              "        text-align: right;\n",
              "    }\n",
              "</style>\n",
              "<table border=\"1\" class=\"dataframe\">\n",
              "  <thead>\n",
              "    <tr style=\"text-align: right;\">\n",
              "      <th></th>\n",
              "      <th>id</th>\n",
              "      <th>state</th>\n",
              "      <th>location_raw</th>\n",
              "      <th>police_department</th>\n",
              "      <th>driver_gender</th>\n",
              "      <th>driver_age_raw</th>\n",
              "      <th>driver_age</th>\n",
              "      <th>driver_race_raw</th>\n",
              "      <th>driver_race</th>\n",
              "      <th>violation_raw</th>\n",
              "      <th>...</th>\n",
              "      <th>search_conducted</th>\n",
              "      <th>search_type_raw</th>\n",
              "      <th>search_type</th>\n",
              "      <th>contraband_found</th>\n",
              "      <th>stop_outcome</th>\n",
              "      <th>is_arrested</th>\n",
              "      <th>stop_duration</th>\n",
              "      <th>out_of_state</th>\n",
              "      <th>drugs_related_stop</th>\n",
              "      <th>district</th>\n",
              "    </tr>\n",
              "  </thead>\n",
              "  <tbody>\n",
              "    <tr>\n",
              "      <th>0</th>\n",
              "      <td>RI-2005-00001</td>\n",
              "      <td>RI</td>\n",
              "      <td>Zone K1</td>\n",
              "      <td>600</td>\n",
              "      <td>M</td>\n",
              "      <td>1985.0</td>\n",
              "      <td>20.0</td>\n",
              "      <td>W</td>\n",
              "      <td>White</td>\n",
              "      <td>Speeding</td>\n",
              "      <td>...</td>\n",
              "      <td>False</td>\n",
              "      <td>NaN</td>\n",
              "      <td>NaN</td>\n",
              "      <td>False</td>\n",
              "      <td>Citation</td>\n",
              "      <td>False</td>\n",
              "      <td>0-15 Min</td>\n",
              "      <td>False</td>\n",
              "      <td>False</td>\n",
              "      <td>Zone K1</td>\n",
              "    </tr>\n",
              "  </tbody>\n",
              "</table>\n",
              "<p>1 rows × 21 columns</p>\n",
              "</div>"
            ],
            "text/plain": [
              "              id state location_raw police_department driver_gender  \\\n",
              "0  RI-2005-00001    RI      Zone K1               600             M   \n",
              "\n",
              "   driver_age_raw  driver_age driver_race_raw driver_race violation_raw  ...  \\\n",
              "0          1985.0        20.0               W       White      Speeding  ...   \n",
              "\n",
              "  search_conducted  search_type_raw search_type contraband_found  \\\n",
              "0            False              NaN         NaN            False   \n",
              "\n",
              "   stop_outcome is_arrested  stop_duration out_of_state drugs_related_stop  \\\n",
              "0      Citation       False       0-15 Min        False              False   \n",
              "\n",
              "   district  \n",
              "0   Zone K1  \n",
              "\n",
              "[1 rows x 21 columns]"
            ]
          },
          "execution_count": 3,
          "metadata": {},
          "output_type": "execute_result"
        }
      ],
      "source": [
        "ri.head(1)"
      ]
    },
    {
      "cell_type": "code",
      "execution_count": null,
      "metadata": {
        "id": "4J4ts35vvs2o",
        "outputId": "621ed97d-9fa0-4449-df4b-752e9c5c75b3"
      },
      "outputs": [
        {
          "data": {
            "text/plain": [
              "Index(['id', 'state', 'location_raw', 'police_department', 'driver_gender',\n",
              "       'driver_age_raw', 'driver_age', 'driver_race_raw', 'driver_race',\n",
              "       'violation_raw', 'violation', 'search_conducted', 'search_type_raw',\n",
              "       'search_type', 'contraband_found', 'stop_outcome', 'is_arrested',\n",
              "       'stop_duration', 'out_of_state', 'drugs_related_stop', 'district'],\n",
              "      dtype='object')"
            ]
          },
          "execution_count": 6,
          "metadata": {},
          "output_type": "execute_result"
        }
      ],
      "source": [
        "ri.columns"
      ]
    },
    {
      "cell_type": "code",
      "execution_count": null,
      "metadata": {
        "id": "clpYikAfvs2p",
        "outputId": "98184042-6c79-419c-8458-3f44b9ebde8a"
      },
      "outputs": [
        {
          "data": {
            "text/plain": [
              "(480584, 21)"
            ]
          },
          "execution_count": 7,
          "metadata": {},
          "output_type": "execute_result"
        }
      ],
      "source": [
        "ri.shape"
      ]
    },
    {
      "cell_type": "markdown",
      "metadata": {
        "id": "cCRJq3Divs2r"
      },
      "source": [
        "**INSTRUCTIONS**\n",
        "\n",
        "*   Count the unique values in the ``violation`` column, to see what violations are being committed by all drivers.\n",
        "*   Express the violation counts as proportions of the total."
      ]
    },
    {
      "cell_type": "code",
      "execution_count": null,
      "metadata": {
        "id": "azd3UMT0vs2s"
      },
      "outputs": [],
      "source": [
        "# CODE HERE "
      ]
    },
    {
      "cell_type": "code",
      "execution_count": null,
      "metadata": {
        "id": "0Y_6BRq-vs2t",
        "outputId": "81aa6b58-f698-4659-dac3-90ba4e678b10"
      },
      "outputs": [
        {
          "data": {
            "text/plain": [
              "Speeding               268736\n",
              "Moving violation        90228\n",
              "Equipment               61250\n",
              "Other                   24216\n",
              "Registration/plates     19830\n",
              "Seat belt               16324\n",
              "Name: violation, dtype: int64"
            ]
          },
          "execution_count": 8,
          "metadata": {},
          "output_type": "execute_result"
        }
      ],
      "source": [
        "# Count the unique values in the 'violation'   ----> Other olarak Nan value değerleri de getirdik bu şekilde.\n",
        "ri['violation'].value_counts(dropna=False)"
      ]
    },
    {
      "cell_type": "code",
      "execution_count": null,
      "metadata": {
        "id": "NcbSEfi7vs2u"
      },
      "outputs": [],
      "source": [
        "# CODE HERE "
      ]
    },
    {
      "cell_type": "code",
      "execution_count": null,
      "metadata": {
        "id": "Fh9kWghEvs2v",
        "outputId": "37103623-ba71-4047-89aa-3cf2cf23192c"
      },
      "outputs": [
        {
          "data": {
            "text/plain": [
              "Speeding               0.559186\n",
              "Moving violation       0.187747\n",
              "Equipment              0.127449\n",
              "Other                  0.050389\n",
              "Registration/plates    0.041262\n",
              "Seat belt              0.033967\n",
              "Name: violation, dtype: float64"
            ]
          },
          "execution_count": 9,
          "metadata": {},
          "output_type": "execute_result"
        }
      ],
      "source": [
        "# Express the violation counts as proportions   ---> normalize dediğimiz zaman değerleri 0-1 arasına sıkıştırıyor. \n",
        "                                                     # Değerler toplamı 1 olmalı\n",
        "ri['violation'].value_counts(normalize=True)"
      ]
    },
    {
      "cell_type": "markdown",
      "metadata": {
        "id": "Nir3XTjAvs2x"
      },
      "source": [
        "***"
      ]
    },
    {
      "cell_type": "markdown",
      "metadata": {
        "id": "WaoT9xRQvs2y"
      },
      "source": [
        "## Comparing violations by gender"
      ]
    },
    {
      "cell_type": "markdown",
      "metadata": {
        "id": "MJoMq2nYvs2z"
      },
      "source": [
        "The question we're trying to answer is whether male and female drivers tend to commit different types of traffic violations.\n",
        "\n",
        "You'll first create a ``DataFrame`` for each gender, and then analyze the ``violations`` in each ``DataFrame`` separately."
      ]
    },
    {
      "cell_type": "markdown",
      "metadata": {
        "id": "W5HA3Tlgvs2z"
      },
      "source": [
        "**INSTRUCTIONS**\n",
        "\n",
        "*   Create a ``DataFrame``, female, that only contains rows in which ``driver_gender`` is ``'F'``.\n",
        "*   Create a ``DataFrame``, male, that only contains rows in which ``driver_gender`` is ``'M'``.\n",
        "*   Count the ``violations`` committed by female drivers and express them as proportions.\n",
        "*   Count the violations committed by male drivers and express them as proportions."
      ]
    },
    {
      "cell_type": "code",
      "execution_count": null,
      "metadata": {
        "id": "tE6zI_jFvs20",
        "outputId": "29785ba5-3674-4988-d4ca-9c584a1ce4c3"
      },
      "outputs": [
        {
          "data": {
            "text/plain": [
              "M    349446\n",
              "F    131138\n",
              "Name: driver_gender, dtype: int64"
            ]
          },
          "execution_count": 26,
          "metadata": {},
          "output_type": "execute_result"
        }
      ],
      "source": [
        "ri['driver_gender'].value_counts(dropna=False)"
      ]
    },
    {
      "cell_type": "code",
      "execution_count": null,
      "metadata": {
        "id": "pYF_aE7svs22"
      },
      "outputs": [],
      "source": [
        "# CODE HERE "
      ]
    },
    {
      "cell_type": "code",
      "execution_count": null,
      "metadata": {
        "id": "7sJzKuhWvs23",
        "outputId": "6345c9a2-9b2e-4191-989d-86cc0f74ae35"
      },
      "outputs": [
        {
          "data": {
            "text/html": [
              "<div>\n",
              "<style scoped>\n",
              "    .dataframe tbody tr th:only-of-type {\n",
              "        vertical-align: middle;\n",
              "    }\n",
              "\n",
              "    .dataframe tbody tr th {\n",
              "        vertical-align: top;\n",
              "    }\n",
              "\n",
              "    .dataframe thead th {\n",
              "        text-align: right;\n",
              "    }\n",
              "</style>\n",
              "<table border=\"1\" class=\"dataframe\">\n",
              "  <thead>\n",
              "    <tr style=\"text-align: right;\">\n",
              "      <th></th>\n",
              "      <th>id</th>\n",
              "      <th>state</th>\n",
              "      <th>location_raw</th>\n",
              "      <th>police_department</th>\n",
              "      <th>driver_gender</th>\n",
              "      <th>driver_age_raw</th>\n",
              "      <th>driver_age</th>\n",
              "      <th>driver_race_raw</th>\n",
              "      <th>driver_race</th>\n",
              "      <th>violation_raw</th>\n",
              "      <th>...</th>\n",
              "      <th>search_conducted</th>\n",
              "      <th>search_type_raw</th>\n",
              "      <th>search_type</th>\n",
              "      <th>contraband_found</th>\n",
              "      <th>stop_outcome</th>\n",
              "      <th>is_arrested</th>\n",
              "      <th>stop_duration</th>\n",
              "      <th>out_of_state</th>\n",
              "      <th>drugs_related_stop</th>\n",
              "      <th>district</th>\n",
              "    </tr>\n",
              "  </thead>\n",
              "  <tbody>\n",
              "    <tr>\n",
              "      <th>14</th>\n",
              "      <td>RI-2005-00016</td>\n",
              "      <td>RI</td>\n",
              "      <td>Zone X3</td>\n",
              "      <td>200</td>\n",
              "      <td>F</td>\n",
              "      <td>1983.0</td>\n",
              "      <td>22.0</td>\n",
              "      <td>W</td>\n",
              "      <td>White</td>\n",
              "      <td>Speeding</td>\n",
              "      <td>...</td>\n",
              "      <td>False</td>\n",
              "      <td>NaN</td>\n",
              "      <td>NaN</td>\n",
              "      <td>False</td>\n",
              "      <td>Citation</td>\n",
              "      <td>False</td>\n",
              "      <td>0-15 Min</td>\n",
              "      <td>True</td>\n",
              "      <td>False</td>\n",
              "      <td>Zone X3</td>\n",
              "    </tr>\n",
              "  </tbody>\n",
              "</table>\n",
              "<p>1 rows × 21 columns</p>\n",
              "</div>"
            ],
            "text/plain": [
              "               id state location_raw police_department driver_gender  \\\n",
              "14  RI-2005-00016    RI      Zone X3               200             F   \n",
              "\n",
              "    driver_age_raw  driver_age driver_race_raw driver_race violation_raw  ...  \\\n",
              "14          1983.0        22.0               W       White      Speeding  ...   \n",
              "\n",
              "   search_conducted  search_type_raw search_type contraband_found  \\\n",
              "14            False              NaN         NaN            False   \n",
              "\n",
              "    stop_outcome is_arrested  stop_duration out_of_state drugs_related_stop  \\\n",
              "14      Citation       False       0-15 Min         True              False   \n",
              "\n",
              "    district  \n",
              "14   Zone X3  \n",
              "\n",
              "[1 rows x 21 columns]"
            ]
          },
          "execution_count": 16,
          "metadata": {},
          "output_type": "execute_result"
        }
      ],
      "source": [
        "female = ri[ri['driver_gender'] == 'F']\n",
        "female.head(1)"
      ]
    },
    {
      "cell_type": "code",
      "execution_count": null,
      "metadata": {
        "id": "jVzu8ygwvs24"
      },
      "outputs": [],
      "source": [
        "# CODE HERE "
      ]
    },
    {
      "cell_type": "code",
      "execution_count": null,
      "metadata": {
        "id": "28OvunhDvs25",
        "outputId": "39d33bd8-b400-4151-9d86-c9492d0827dd"
      },
      "outputs": [
        {
          "data": {
            "text/html": [
              "<div>\n",
              "<style scoped>\n",
              "    .dataframe tbody tr th:only-of-type {\n",
              "        vertical-align: middle;\n",
              "    }\n",
              "\n",
              "    .dataframe tbody tr th {\n",
              "        vertical-align: top;\n",
              "    }\n",
              "\n",
              "    .dataframe thead th {\n",
              "        text-align: right;\n",
              "    }\n",
              "</style>\n",
              "<table border=\"1\" class=\"dataframe\">\n",
              "  <thead>\n",
              "    <tr style=\"text-align: right;\">\n",
              "      <th></th>\n",
              "      <th>id</th>\n",
              "      <th>state</th>\n",
              "      <th>location_raw</th>\n",
              "      <th>police_department</th>\n",
              "      <th>driver_gender</th>\n",
              "      <th>driver_age_raw</th>\n",
              "      <th>driver_age</th>\n",
              "      <th>driver_race_raw</th>\n",
              "      <th>driver_race</th>\n",
              "      <th>violation_raw</th>\n",
              "      <th>...</th>\n",
              "      <th>search_conducted</th>\n",
              "      <th>search_type_raw</th>\n",
              "      <th>search_type</th>\n",
              "      <th>contraband_found</th>\n",
              "      <th>stop_outcome</th>\n",
              "      <th>is_arrested</th>\n",
              "      <th>stop_duration</th>\n",
              "      <th>out_of_state</th>\n",
              "      <th>drugs_related_stop</th>\n",
              "      <th>district</th>\n",
              "    </tr>\n",
              "  </thead>\n",
              "  <tbody>\n",
              "    <tr>\n",
              "      <th>0</th>\n",
              "      <td>RI-2005-00001</td>\n",
              "      <td>RI</td>\n",
              "      <td>Zone K1</td>\n",
              "      <td>600</td>\n",
              "      <td>M</td>\n",
              "      <td>1985.0</td>\n",
              "      <td>20.0</td>\n",
              "      <td>W</td>\n",
              "      <td>White</td>\n",
              "      <td>Speeding</td>\n",
              "      <td>...</td>\n",
              "      <td>False</td>\n",
              "      <td>NaN</td>\n",
              "      <td>NaN</td>\n",
              "      <td>False</td>\n",
              "      <td>Citation</td>\n",
              "      <td>False</td>\n",
              "      <td>0-15 Min</td>\n",
              "      <td>False</td>\n",
              "      <td>False</td>\n",
              "      <td>Zone K1</td>\n",
              "    </tr>\n",
              "  </tbody>\n",
              "</table>\n",
              "<p>1 rows × 21 columns</p>\n",
              "</div>"
            ],
            "text/plain": [
              "              id state location_raw police_department driver_gender  \\\n",
              "0  RI-2005-00001    RI      Zone K1               600             M   \n",
              "\n",
              "   driver_age_raw  driver_age driver_race_raw driver_race violation_raw  ...  \\\n",
              "0          1985.0        20.0               W       White      Speeding  ...   \n",
              "\n",
              "  search_conducted  search_type_raw search_type contraband_found  \\\n",
              "0            False              NaN         NaN            False   \n",
              "\n",
              "   stop_outcome is_arrested  stop_duration out_of_state drugs_related_stop  \\\n",
              "0      Citation       False       0-15 Min        False              False   \n",
              "\n",
              "   district  \n",
              "0   Zone K1  \n",
              "\n",
              "[1 rows x 21 columns]"
            ]
          },
          "execution_count": 17,
          "metadata": {},
          "output_type": "execute_result"
        }
      ],
      "source": [
        "male = ri[ri['driver_gender'] == 'M']\n",
        "male.head(1)"
      ]
    },
    {
      "cell_type": "code",
      "execution_count": null,
      "metadata": {
        "id": "7WX06wW6vs27"
      },
      "outputs": [],
      "source": [
        "# CODE HERE "
      ]
    },
    {
      "cell_type": "code",
      "execution_count": null,
      "metadata": {
        "id": "KNH-oDzrvs28",
        "outputId": "ca4b1614-8bb1-4b05-b401-20b812deec1f"
      },
      "outputs": [
        {
          "data": {
            "text/plain": [
              "Speeding               86198\n",
              "Moving violation       17911\n",
              "Equipment              14039\n",
              "Registration/plates     5649\n",
              "Other                   3791\n",
              "Seat belt               3550\n",
              "Name: violation, dtype: int64"
            ]
          },
          "execution_count": 18,
          "metadata": {},
          "output_type": "execute_result"
        }
      ],
      "source": [
        "female['violation'].value_counts(dropna=False)"
      ]
    },
    {
      "cell_type": "code",
      "execution_count": null,
      "metadata": {
        "id": "qecij3A_vs29"
      },
      "outputs": [],
      "source": [
        "# CODE HERE "
      ]
    },
    {
      "cell_type": "code",
      "execution_count": null,
      "metadata": {
        "id": "BERj8uVyvs2-",
        "outputId": "692da325-2db5-41f8-8dcf-ee0ce529e9a0"
      },
      "outputs": [
        {
          "data": {
            "text/plain": [
              "Speeding               0.657308\n",
              "Moving violation       0.136581\n",
              "Equipment              0.107055\n",
              "Registration/plates    0.043077\n",
              "Other                  0.028908\n",
              "Seat belt              0.027071\n",
              "Name: violation, dtype: float64"
            ]
          },
          "execution_count": 20,
          "metadata": {},
          "output_type": "execute_result"
        }
      ],
      "source": [
        "female['violation'].value_counts(normalize=True)"
      ]
    },
    {
      "cell_type": "code",
      "execution_count": null,
      "metadata": {
        "id": "NBoZcDQLvs3D"
      },
      "outputs": [],
      "source": [
        "# CODE HERE "
      ]
    },
    {
      "cell_type": "code",
      "execution_count": null,
      "metadata": {
        "id": "YVttdJ-2vs3E",
        "outputId": "d3239ba7-135d-4e62-a0d4-77ae893bdae2"
      },
      "outputs": [
        {
          "data": {
            "text/plain": [
              "Speeding               182538\n",
              "Moving violation        72317\n",
              "Equipment               47211\n",
              "Other                   20425\n",
              "Registration/plates     14181\n",
              "Seat belt               12774\n",
              "Name: violation, dtype: int64"
            ]
          },
          "execution_count": 22,
          "metadata": {},
          "output_type": "execute_result"
        }
      ],
      "source": [
        "male['violation'].value_counts(dropna=False)"
      ]
    },
    {
      "cell_type": "code",
      "execution_count": null,
      "metadata": {
        "id": "k4I7AZiZvs3F"
      },
      "outputs": [],
      "source": [
        "# CODE HERE "
      ]
    },
    {
      "cell_type": "code",
      "execution_count": null,
      "metadata": {
        "id": "rhJmHQzbvs3G",
        "outputId": "ec1c0c34-bb6a-431f-8af8-750ea9edeb37"
      },
      "outputs": [
        {
          "data": {
            "text/plain": [
              "Speeding               0.522364\n",
              "Moving violation       0.206948\n",
              "Equipment              0.135102\n",
              "Other                  0.058450\n",
              "Registration/plates    0.040581\n",
              "Seat belt              0.036555\n",
              "Name: violation, dtype: float64"
            ]
          },
          "execution_count": 24,
          "metadata": {},
          "output_type": "execute_result"
        }
      ],
      "source": [
        "male['violation'].value_counts(normalize=True)"
      ]
    },
    {
      "cell_type": "markdown",
      "metadata": {
        "id": "b5_r_c6Qvs3H"
      },
      "source": [
        "***"
      ]
    },
    {
      "cell_type": "markdown",
      "metadata": {
        "id": "QOvHXk91vs3I"
      },
      "source": [
        "## Comparing speeding outcomes by gender"
      ]
    },
    {
      "cell_type": "markdown",
      "metadata": {
        "id": "bCfrqFJOvs3J"
      },
      "source": [
        "When a driver is pulled over for speeding, many people believe that gender has an impact on whether the driver will receive a ticket or a warning. Can you find evidence of this in the dataset?\n",
        "\n",
        "First, you'll create two ``DataFrames`` of drivers who were stopped for ``speeding``: one containing ***females*** and the other containing ***males***.\n",
        "\n",
        "Then, for each **gender**, you'll use the ``stop_outcome`` column to calculate what percentage of stops resulted in a ``'Citation'`` (meaning a ticket) versus a ``'Warning'``."
      ]
    },
    {
      "cell_type": "markdown",
      "metadata": {
        "id": "wU16Wopdvs3N"
      },
      "source": [
        "**INSTRUCTIONS**\n",
        "\n",
        "*   Create a ``DataFrame``, ``female_and_speeding``, that only includes female drivers who were stopped for speeding.\n",
        "*   Create a ``DataFrame``, ``male_and_speeding``, that only includes male drivers who were stopped for speeding.\n",
        "*   Count the **stop outcomes** for the female drivers and express them as proportions.\n",
        "*   Count the **stop outcomes** for the male drivers and express them as proportions."
      ]
    },
    {
      "cell_type": "code",
      "execution_count": null,
      "metadata": {
        "id": "VZ3m-Hadvs3O"
      },
      "outputs": [],
      "source": [
        "# CODE HERE"
      ]
    },
    {
      "cell_type": "code",
      "execution_count": null,
      "metadata": {
        "id": "dx0HqlG0vs3P",
        "outputId": "43728dee-ffa1-44a9-8bdf-9f5b079f2cd7"
      },
      "outputs": [
        {
          "data": {
            "text/html": [
              "<div>\n",
              "<style scoped>\n",
              "    .dataframe tbody tr th:only-of-type {\n",
              "        vertical-align: middle;\n",
              "    }\n",
              "\n",
              "    .dataframe tbody tr th {\n",
              "        vertical-align: top;\n",
              "    }\n",
              "\n",
              "    .dataframe thead th {\n",
              "        text-align: right;\n",
              "    }\n",
              "</style>\n",
              "<table border=\"1\" class=\"dataframe\">\n",
              "  <thead>\n",
              "    <tr style=\"text-align: right;\">\n",
              "      <th></th>\n",
              "      <th>id</th>\n",
              "      <th>state</th>\n",
              "      <th>location_raw</th>\n",
              "      <th>police_department</th>\n",
              "      <th>driver_gender</th>\n",
              "      <th>driver_age_raw</th>\n",
              "      <th>driver_age</th>\n",
              "      <th>driver_race_raw</th>\n",
              "      <th>driver_race</th>\n",
              "      <th>violation_raw</th>\n",
              "      <th>...</th>\n",
              "      <th>search_conducted</th>\n",
              "      <th>search_type_raw</th>\n",
              "      <th>search_type</th>\n",
              "      <th>contraband_found</th>\n",
              "      <th>stop_outcome</th>\n",
              "      <th>is_arrested</th>\n",
              "      <th>stop_duration</th>\n",
              "      <th>out_of_state</th>\n",
              "      <th>drugs_related_stop</th>\n",
              "      <th>district</th>\n",
              "    </tr>\n",
              "  </thead>\n",
              "  <tbody>\n",
              "    <tr>\n",
              "      <th>14</th>\n",
              "      <td>RI-2005-00016</td>\n",
              "      <td>RI</td>\n",
              "      <td>Zone X3</td>\n",
              "      <td>200</td>\n",
              "      <td>F</td>\n",
              "      <td>1983.0</td>\n",
              "      <td>22.0</td>\n",
              "      <td>W</td>\n",
              "      <td>White</td>\n",
              "      <td>Speeding</td>\n",
              "      <td>...</td>\n",
              "      <td>False</td>\n",
              "      <td>NaN</td>\n",
              "      <td>NaN</td>\n",
              "      <td>False</td>\n",
              "      <td>Citation</td>\n",
              "      <td>False</td>\n",
              "      <td>0-15 Min</td>\n",
              "      <td>True</td>\n",
              "      <td>False</td>\n",
              "      <td>Zone X3</td>\n",
              "    </tr>\n",
              "  </tbody>\n",
              "</table>\n",
              "<p>1 rows × 21 columns</p>\n",
              "</div>"
            ],
            "text/plain": [
              "               id state location_raw police_department driver_gender  \\\n",
              "14  RI-2005-00016    RI      Zone X3               200             F   \n",
              "\n",
              "    driver_age_raw  driver_age driver_race_raw driver_race violation_raw  ...  \\\n",
              "14          1983.0        22.0               W       White      Speeding  ...   \n",
              "\n",
              "   search_conducted  search_type_raw search_type contraband_found  \\\n",
              "14            False              NaN         NaN            False   \n",
              "\n",
              "    stop_outcome is_arrested  stop_duration out_of_state drugs_related_stop  \\\n",
              "14      Citation       False       0-15 Min         True              False   \n",
              "\n",
              "    district  \n",
              "14   Zone X3  \n",
              "\n",
              "[1 rows x 21 columns]"
            ]
          },
          "execution_count": 28,
          "metadata": {},
          "output_type": "execute_result"
        }
      ],
      "source": [
        "female_and_speeding = ri[(ri.driver_gender == 'F') & (ri.violation == 'Speeding')]\n",
        "female_and_speeding.head(1)"
      ]
    },
    {
      "cell_type": "code",
      "execution_count": null,
      "metadata": {
        "id": "P_nGGFT1vs3Q"
      },
      "outputs": [],
      "source": [
        "# CODE HERE"
      ]
    },
    {
      "cell_type": "code",
      "execution_count": null,
      "metadata": {
        "id": "UYA_gya8vs3R",
        "outputId": "2baad0b5-8d3b-42ac-a41c-6d82d9ba72a6"
      },
      "outputs": [
        {
          "data": {
            "text/html": [
              "<div>\n",
              "<style scoped>\n",
              "    .dataframe tbody tr th:only-of-type {\n",
              "        vertical-align: middle;\n",
              "    }\n",
              "\n",
              "    .dataframe tbody tr th {\n",
              "        vertical-align: top;\n",
              "    }\n",
              "\n",
              "    .dataframe thead th {\n",
              "        text-align: right;\n",
              "    }\n",
              "</style>\n",
              "<table border=\"1\" class=\"dataframe\">\n",
              "  <thead>\n",
              "    <tr style=\"text-align: right;\">\n",
              "      <th></th>\n",
              "      <th>id</th>\n",
              "      <th>state</th>\n",
              "      <th>location_raw</th>\n",
              "      <th>police_department</th>\n",
              "      <th>driver_gender</th>\n",
              "      <th>driver_age_raw</th>\n",
              "      <th>driver_age</th>\n",
              "      <th>driver_race_raw</th>\n",
              "      <th>driver_race</th>\n",
              "      <th>violation_raw</th>\n",
              "      <th>...</th>\n",
              "      <th>search_conducted</th>\n",
              "      <th>search_type_raw</th>\n",
              "      <th>search_type</th>\n",
              "      <th>contraband_found</th>\n",
              "      <th>stop_outcome</th>\n",
              "      <th>is_arrested</th>\n",
              "      <th>stop_duration</th>\n",
              "      <th>out_of_state</th>\n",
              "      <th>drugs_related_stop</th>\n",
              "      <th>district</th>\n",
              "    </tr>\n",
              "  </thead>\n",
              "  <tbody>\n",
              "    <tr>\n",
              "      <th>0</th>\n",
              "      <td>RI-2005-00001</td>\n",
              "      <td>RI</td>\n",
              "      <td>Zone K1</td>\n",
              "      <td>600</td>\n",
              "      <td>M</td>\n",
              "      <td>1985.0</td>\n",
              "      <td>20.0</td>\n",
              "      <td>W</td>\n",
              "      <td>White</td>\n",
              "      <td>Speeding</td>\n",
              "      <td>...</td>\n",
              "      <td>False</td>\n",
              "      <td>NaN</td>\n",
              "      <td>NaN</td>\n",
              "      <td>False</td>\n",
              "      <td>Citation</td>\n",
              "      <td>False</td>\n",
              "      <td>0-15 Min</td>\n",
              "      <td>False</td>\n",
              "      <td>False</td>\n",
              "      <td>Zone K1</td>\n",
              "    </tr>\n",
              "  </tbody>\n",
              "</table>\n",
              "<p>1 rows × 21 columns</p>\n",
              "</div>"
            ],
            "text/plain": [
              "              id state location_raw police_department driver_gender  \\\n",
              "0  RI-2005-00001    RI      Zone K1               600             M   \n",
              "\n",
              "   driver_age_raw  driver_age driver_race_raw driver_race violation_raw  ...  \\\n",
              "0          1985.0        20.0               W       White      Speeding  ...   \n",
              "\n",
              "  search_conducted  search_type_raw search_type contraband_found  \\\n",
              "0            False              NaN         NaN            False   \n",
              "\n",
              "   stop_outcome is_arrested  stop_duration out_of_state drugs_related_stop  \\\n",
              "0      Citation       False       0-15 Min        False              False   \n",
              "\n",
              "   district  \n",
              "0   Zone K1  \n",
              "\n",
              "[1 rows x 21 columns]"
            ]
          },
          "execution_count": 29,
          "metadata": {},
          "output_type": "execute_result"
        }
      ],
      "source": [
        "male_and_speeding = ri[(ri.driver_gender == 'M') & (ri.violation == 'Speeding')]\n",
        "male_and_speeding.head(1)"
      ]
    },
    {
      "cell_type": "code",
      "execution_count": null,
      "metadata": {
        "id": "bgI8_uR8vs3S"
      },
      "outputs": [],
      "source": [
        "# CODE HERE"
      ]
    },
    {
      "cell_type": "code",
      "execution_count": null,
      "metadata": {
        "id": "TtiI4GhGvs3T",
        "outputId": "c48a5453-2c04-4285-bcb1-57f216eb3326"
      },
      "outputs": [
        {
          "data": {
            "text/plain": [
              "Citation            82168\n",
              "Warning              3362\n",
              "Arrest Driver         456\n",
              "Arrest Passenger       89\n",
              "N/D                    78\n",
              "No Action              45\n",
              "Name: stop_outcome, dtype: int64"
            ]
          },
          "execution_count": 30,
          "metadata": {},
          "output_type": "execute_result"
        }
      ],
      "source": [
        "female_and_speeding['stop_outcome'].value_counts(dropna=False)"
      ]
    },
    {
      "cell_type": "code",
      "execution_count": null,
      "metadata": {
        "id": "0_wHXba7vs3U"
      },
      "outputs": [],
      "source": [
        "# CODE HERE"
      ]
    },
    {
      "cell_type": "code",
      "execution_count": null,
      "metadata": {
        "id": "Uc4HdPtIvs3V",
        "outputId": "e9228e21-44b9-45e9-c118-9336f889caa4"
      },
      "outputs": [
        {
          "data": {
            "text/plain": [
              "Citation            0.953247\n",
              "Warning             0.039003\n",
              "Arrest Driver       0.005290\n",
              "Arrest Passenger    0.001033\n",
              "N/D                 0.000905\n",
              "No Action           0.000522\n",
              "Name: stop_outcome, dtype: float64"
            ]
          },
          "execution_count": 31,
          "metadata": {},
          "output_type": "execute_result"
        }
      ],
      "source": [
        "female_and_speeding['stop_outcome'].value_counts(normalize=True)"
      ]
    },
    {
      "cell_type": "code",
      "execution_count": null,
      "metadata": {
        "id": "S6Lr-xCAvs3W"
      },
      "outputs": [],
      "source": [
        "# CODE HERE"
      ]
    },
    {
      "cell_type": "code",
      "execution_count": null,
      "metadata": {
        "id": "qK9AlYqNvs3W",
        "outputId": "4fb87c02-781b-4f2d-c82b-76fe92abb72c"
      },
      "outputs": [
        {
          "data": {
            "text/plain": [
              "Citation            172432\n",
              "Warning               6587\n",
              "Arrest Driver         2878\n",
              "Arrest Passenger       231\n",
              "N/D                    216\n",
              "No Action              194\n",
              "Name: stop_outcome, dtype: int64"
            ]
          },
          "execution_count": 32,
          "metadata": {},
          "output_type": "execute_result"
        }
      ],
      "source": [
        "male_and_speeding['stop_outcome'].value_counts(dropna=False)"
      ]
    },
    {
      "cell_type": "code",
      "execution_count": null,
      "metadata": {
        "id": "m4vaUZKKvs3X"
      },
      "outputs": [],
      "source": [
        "# CODE HERE"
      ]
    },
    {
      "cell_type": "code",
      "execution_count": null,
      "metadata": {
        "id": "52ZiDa_Mvs3Y",
        "outputId": "85beecd8-cc60-46ae-c2e9-3fe02bc7f7a6"
      },
      "outputs": [
        {
          "data": {
            "text/plain": [
              "Citation            0.944636\n",
              "Warning             0.036086\n",
              "Arrest Driver       0.015767\n",
              "Arrest Passenger    0.001265\n",
              "N/D                 0.001183\n",
              "No Action           0.001063\n",
              "Name: stop_outcome, dtype: float64"
            ]
          },
          "execution_count": 33,
          "metadata": {},
          "output_type": "execute_result"
        }
      ],
      "source": [
        "male_and_speeding['stop_outcome'].value_counts(normalize=True)"
      ]
    },
    {
      "cell_type": "markdown",
      "metadata": {
        "id": "t7ckxB-9vs3Z"
      },
      "source": [
        "***"
      ]
    },
    {
      "cell_type": "markdown",
      "metadata": {
        "id": "WA85EIx7vs3Z"
      },
      "source": [
        "## Calculating the search rate"
      ]
    },
    {
      "cell_type": "markdown",
      "metadata": {
        "id": "BlvFBqk9vs3a"
      },
      "source": [
        "During a traffic stop, the police officer sometimes conducts a search of the vehicle. In this exercise, you'll calculate the percentage of all stops that result in a vehicle search, also known as the **search rate**."
      ]
    },
    {
      "cell_type": "markdown",
      "metadata": {
        "id": "sERjonaXvs3b"
      },
      "source": [
        "**INSTRUCTIONS**\n",
        "\n",
        "*   Check the data type of ``search_conducted`` to confirm that it's a ``Boolean Series``.\n",
        "*   Calculate the search rate by counting the ``Series`` values and expressing them as proportions.\n",
        "*   Calculate the search rate by taking the mean of the ``Series``. (It should match the proportion of ``True`` values calculated above.)"
      ]
    },
    {
      "cell_type": "code",
      "execution_count": null,
      "metadata": {
        "id": "pBivXEFsvs3b"
      },
      "outputs": [],
      "source": [
        "# CODE HERE"
      ]
    },
    {
      "cell_type": "code",
      "execution_count": null,
      "metadata": {
        "id": "aXIezcrevs3c",
        "outputId": "061fea5a-a2ae-4782-84f2-f6c2036f6a2a"
      },
      "outputs": [
        {
          "data": {
            "text/plain": [
              "dtype('bool')"
            ]
          },
          "execution_count": 35,
          "metadata": {},
          "output_type": "execute_result"
        }
      ],
      "source": [
        "ri['search_conducted'].dtype"
      ]
    },
    {
      "cell_type": "code",
      "execution_count": null,
      "metadata": {
        "id": "bTyHuDnEvs3d"
      },
      "outputs": [],
      "source": [
        "# CODE HERE"
      ]
    },
    {
      "cell_type": "code",
      "execution_count": null,
      "metadata": {
        "id": "onSaFY5Ivs3e",
        "outputId": "bc2cb0e6-ec6c-4d10-8494-7339d41f485e"
      },
      "outputs": [
        {
          "data": {
            "text/plain": [
              "False    462822\n",
              "True      17762\n",
              "Name: search_conducted, dtype: int64"
            ]
          },
          "execution_count": 38,
          "metadata": {},
          "output_type": "execute_result"
        }
      ],
      "source": [
        "ri['search_conducted'].value_counts(dropna = False)"
      ]
    },
    {
      "cell_type": "code",
      "execution_count": null,
      "metadata": {
        "id": "TDfCIZevvs3e"
      },
      "outputs": [],
      "source": [
        "# CODE HERE"
      ]
    },
    {
      "cell_type": "code",
      "execution_count": null,
      "metadata": {
        "id": "FM7Shhr8vs3f",
        "outputId": "4a5c4e6d-60c2-41e6-c2a2-bf5823387eed"
      },
      "outputs": [
        {
          "data": {
            "text/plain": [
              "False    0.963041\n",
              "True     0.036959\n",
              "Name: search_conducted, dtype: float64"
            ]
          },
          "execution_count": 39,
          "metadata": {},
          "output_type": "execute_result"
        }
      ],
      "source": [
        "ri['search_conducted'].value_counts(normalize=True)"
      ]
    },
    {
      "cell_type": "code",
      "execution_count": null,
      "metadata": {
        "id": "tXKl6LKLvs3g"
      },
      "outputs": [],
      "source": [
        "# CODE HERE"
      ]
    },
    {
      "cell_type": "code",
      "execution_count": null,
      "metadata": {
        "id": "pdmjArCUvs3h",
        "outputId": "d2f5769a-f625-4acd-a821-ee3ae2879dd5"
      },
      "outputs": [
        {
          "data": {
            "text/plain": [
              "0.036959199640437465"
            ]
          },
          "execution_count": 40,
          "metadata": {},
          "output_type": "execute_result"
        }
      ],
      "source": [
        "ri['search_conducted'].mean()"
      ]
    },
    {
      "cell_type": "markdown",
      "metadata": {
        "id": "szomDyb5vs3h"
      },
      "source": [
        "***"
      ]
    },
    {
      "cell_type": "markdown",
      "metadata": {
        "id": "CF6Mioilvs3i"
      },
      "source": [
        "## Comparing search rates by gender"
      ]
    },
    {
      "cell_type": "markdown",
      "metadata": {
        "id": "ouMXQ5Exvs3j"
      },
      "source": [
        "You'll compare the rates at which **female** and **male** drivers are searched during a traffic stop. Remember that the vehicle search rate across all stops is about **3.8%**.\n",
        "\n",
        "First, you'll filter the ``DataFrame`` by gender and calculate the search rate for each group separately. Then, you'll perform the same calculation for both genders at once using a ``.groupby()``."
      ]
    },
    {
      "cell_type": "markdown",
      "metadata": {
        "id": "9HShh6I-vs3k"
      },
      "source": [
        "**INSTRUCTIONS 1/3**\n",
        "\n",
        "*   Filter the ``DataFrame`` to only include **female** drivers, and then calculate the search rate by taking the mean of ``search_conducted``."
      ]
    },
    {
      "cell_type": "code",
      "execution_count": null,
      "metadata": {
        "id": "y0keXZGqvs3l"
      },
      "outputs": [],
      "source": [
        "# CODE HERE"
      ]
    },
    {
      "cell_type": "code",
      "execution_count": null,
      "metadata": {
        "id": "lJ7y7OQDvs3m",
        "outputId": "d2784c6f-0f2d-442f-a970-a131700bd1b4"
      },
      "outputs": [
        {
          "data": {
            "text/plain": [
              "0.018751239152648355"
            ]
          },
          "execution_count": 41,
          "metadata": {},
          "output_type": "execute_result"
        }
      ],
      "source": [
        "ri[ri['driver_gender'] == 'F'].search_conducted.mean()"
      ]
    },
    {
      "cell_type": "code",
      "execution_count": null,
      "metadata": {
        "id": "naJ2cuYsvs3n"
      },
      "outputs": [],
      "source": [
        "# CODE HERE"
      ]
    },
    {
      "cell_type": "code",
      "execution_count": null,
      "metadata": {
        "id": "czeU2awTvs3n",
        "outputId": "339dab48-dc28-417a-8b7b-5893e1740637"
      },
      "outputs": [
        {
          "data": {
            "text/plain": [
              "0.018751239152648355"
            ]
          },
          "execution_count": 44,
          "metadata": {},
          "output_type": "execute_result"
        }
      ],
      "source": [
        "female['search_conducted'].mean()"
      ]
    },
    {
      "cell_type": "markdown",
      "metadata": {
        "id": "1Xg65xBZvs3o"
      },
      "source": [
        "**INSTRUCTIONS 2/3**\n",
        "\n",
        "*   Filter the ``DataFrame`` to only include **male** drivers, and then repeat the search rate calculation."
      ]
    },
    {
      "cell_type": "code",
      "execution_count": null,
      "metadata": {
        "id": "dvPEBXqTvs3p"
      },
      "outputs": [],
      "source": [
        "# CODE HERE"
      ]
    },
    {
      "cell_type": "code",
      "execution_count": null,
      "metadata": {
        "id": "pccon9j9vs3q",
        "outputId": "0b5651e4-0bf6-4cdb-fcb3-1934cdeebe55"
      },
      "outputs": [
        {
          "data": {
            "text/plain": [
              "0.04379217389811301"
            ]
          },
          "execution_count": 45,
          "metadata": {},
          "output_type": "execute_result"
        }
      ],
      "source": [
        "ri[ri['driver_gender'] == 'M'].search_conducted.mean()"
      ]
    },
    {
      "cell_type": "code",
      "execution_count": null,
      "metadata": {
        "id": "bx3ToyxJvs4L"
      },
      "outputs": [],
      "source": [
        "# CODE HERE"
      ]
    },
    {
      "cell_type": "code",
      "execution_count": null,
      "metadata": {
        "id": "iNXyu77cvs4M",
        "outputId": "2312cd42-e322-46d6-e96c-4f85416dd663"
      },
      "outputs": [
        {
          "data": {
            "text/plain": [
              "0.04379217389811301"
            ]
          },
          "execution_count": 46,
          "metadata": {},
          "output_type": "execute_result"
        }
      ],
      "source": [
        "male['search_conducted'].mean()"
      ]
    },
    {
      "cell_type": "markdown",
      "metadata": {
        "id": "q7DxirAgvs4N"
      },
      "source": [
        "**INSTRUCTIONS 3/3**\n",
        "\n",
        "*   Group by driver gender to calculate the search rate for both groups simultaneously. (It should match the previous results.)"
      ]
    },
    {
      "cell_type": "code",
      "execution_count": null,
      "metadata": {
        "id": "gpm5FP_Zvs4O"
      },
      "outputs": [],
      "source": [
        "# CODE HERE"
      ]
    },
    {
      "cell_type": "code",
      "execution_count": null,
      "metadata": {
        "id": "Bap_Wd6Pvs4O",
        "outputId": "60a6767e-4484-4894-ce7a-b8b50a010f1e"
      },
      "outputs": [
        {
          "data": {
            "text/html": [
              "<div>\n",
              "<style scoped>\n",
              "    .dataframe tbody tr th:only-of-type {\n",
              "        vertical-align: middle;\n",
              "    }\n",
              "\n",
              "    .dataframe tbody tr th {\n",
              "        vertical-align: top;\n",
              "    }\n",
              "\n",
              "    .dataframe thead th {\n",
              "        text-align: right;\n",
              "    }\n",
              "</style>\n",
              "<table border=\"1\" class=\"dataframe\">\n",
              "  <thead>\n",
              "    <tr style=\"text-align: right;\">\n",
              "      <th></th>\n",
              "      <th>driver_age_raw</th>\n",
              "      <th>driver_age</th>\n",
              "      <th>search_conducted</th>\n",
              "      <th>contraband_found</th>\n",
              "      <th>is_arrested</th>\n",
              "      <th>drugs_related_stop</th>\n",
              "    </tr>\n",
              "    <tr>\n",
              "      <th>driver_gender</th>\n",
              "      <th></th>\n",
              "      <th></th>\n",
              "      <th></th>\n",
              "      <th></th>\n",
              "      <th></th>\n",
              "      <th></th>\n",
              "    </tr>\n",
              "  </thead>\n",
              "  <tbody>\n",
              "    <tr>\n",
              "      <th>F</th>\n",
              "      <td>1974.087275</td>\n",
              "      <td>32.536682</td>\n",
              "      <td>0.018751</td>\n",
              "      <td>0.006337</td>\n",
              "      <td>0.025492</td>\n",
              "      <td>0.004568</td>\n",
              "    </tr>\n",
              "    <tr>\n",
              "      <th>M</th>\n",
              "      <td>1969.211775</td>\n",
              "      <td>34.524914</td>\n",
              "      <td>0.043792</td>\n",
              "      <td>0.016449</td>\n",
              "      <td>0.037946</td>\n",
              "      <td>0.011922</td>\n",
              "    </tr>\n",
              "  </tbody>\n",
              "</table>\n",
              "</div>"
            ],
            "text/plain": [
              "               driver_age_raw  driver_age  search_conducted  contraband_found  \\\n",
              "driver_gender                                                                   \n",
              "F                 1974.087275   32.536682          0.018751          0.006337   \n",
              "M                 1969.211775   34.524914          0.043792          0.016449   \n",
              "\n",
              "               is_arrested  drugs_related_stop  \n",
              "driver_gender                                   \n",
              "F                 0.025492            0.004568  \n",
              "M                 0.037946            0.011922  "
            ]
          },
          "execution_count": 48,
          "metadata": {},
          "output_type": "execute_result"
        }
      ],
      "source": [
        "ri.groupby(['driver_gender']).mean()"
      ]
    },
    {
      "cell_type": "code",
      "execution_count": null,
      "metadata": {
        "id": "aZ8qIo7Evs4P"
      },
      "outputs": [],
      "source": [
        "# CODE HERE"
      ]
    },
    {
      "cell_type": "code",
      "execution_count": null,
      "metadata": {
        "id": "nHIei9ltvs4Q",
        "outputId": "c89cfdaf-3862-4e91-f4e9-318b9dd1612d"
      },
      "outputs": [
        {
          "data": {
            "text/plain": [
              "driver_gender\n",
              "F    0.018751\n",
              "M    0.043792\n",
              "Name: search_conducted, dtype: float64"
            ]
          },
          "execution_count": 49,
          "metadata": {},
          "output_type": "execute_result"
        }
      ],
      "source": [
        "ri.groupby(['driver_gender']).search_conducted.mean()"
      ]
    },
    {
      "cell_type": "markdown",
      "metadata": {
        "id": "HdH4Gvcfvs4R"
      },
      "source": [
        "***"
      ]
    },
    {
      "cell_type": "markdown",
      "metadata": {
        "id": "3lodFxBvvs4R"
      },
      "source": [
        "## Adding a second factor to the analysis"
      ]
    },
    {
      "cell_type": "markdown",
      "metadata": {
        "id": "fdBPrujcvs4S"
      },
      "source": [
        "Even though the search rate for males is much higher than for females, it's possible that the difference is mostly due to a second factor.\n",
        "\n",
        "For example, you might hypothesize that the search rate varies by violation type, and the difference in search rate between males and females is because they tend to commit different violations.\n",
        "\n",
        "You can test this hypothesis by examining the search rate for each combination of gender and violation. If the hypothesis was true, you would find that males and females are searched at about the same rate for each violation. Find out below if that's the case!"
      ]
    },
    {
      "cell_type": "markdown",
      "metadata": {
        "id": "H3AGQPJwvs4X"
      },
      "source": [
        "**INSTRUCTIONS 1/2**\n",
        "\n",
        "*   Use a ``.groupby()`` to calculate the search rate for each combination of gender and violation. Are males and females searched at about the same rate for each violation?"
      ]
    },
    {
      "cell_type": "code",
      "execution_count": null,
      "metadata": {
        "id": "O8iRvNHDvs4Y"
      },
      "outputs": [],
      "source": [
        "# CODE HERE"
      ]
    },
    {
      "cell_type": "code",
      "execution_count": null,
      "metadata": {
        "id": "aHzqET68vs4Z",
        "outputId": "b2973e28-8f4a-4323-ef34-b28157f5d8a5"
      },
      "outputs": [
        {
          "data": {
            "text/plain": [
              "driver_gender  violation          \n",
              "F              Equipment              0.040245\n",
              "               Moving violation       0.038021\n",
              "               Other                  0.045898\n",
              "               Registration/plates    0.054700\n",
              "               Seat belt              0.017746\n",
              "               Speeding               0.007738\n",
              "M              Equipment              0.070916\n",
              "               Moving violation       0.059156\n",
              "               Other                  0.046120\n",
              "               Registration/plates    0.103589\n",
              "               Seat belt              0.031705\n",
              "               Speeding               0.026630\n",
              "Name: search_conducted, dtype: float64"
            ]
          },
          "execution_count": 55,
          "metadata": {},
          "output_type": "execute_result"
        }
      ],
      "source": [
        "ri.groupby(['driver_gender', 'violation']).search_conducted.mean()"
      ]
    },
    {
      "cell_type": "code",
      "execution_count": null,
      "metadata": {
        "id": "fdRDiCS3vs4Z",
        "outputId": "76579d13-a0ed-4a55-daec-c6662f09587c"
      },
      "outputs": [
        {
          "data": {
            "text/plain": [
              "driver_gender  violation            search_conducted\n",
              "F              Equipment            False               0.959755\n",
              "                                    True                0.040245\n",
              "               Moving violation     False               0.961979\n",
              "                                    True                0.038021\n",
              "               Other                False               0.954102\n",
              "                                    True                0.045898\n",
              "               Registration/plates  False               0.945300\n",
              "                                    True                0.054700\n",
              "               Seat belt            False               0.982254\n",
              "                                    True                0.017746\n",
              "               Speeding             False               0.992262\n",
              "                                    True                0.007738\n",
              "M              Equipment            False               0.929084\n",
              "                                    True                0.070916\n",
              "               Moving violation     False               0.940844\n",
              "                                    True                0.059156\n",
              "               Other                False               0.953880\n",
              "                                    True                0.046120\n",
              "               Registration/plates  False               0.896411\n",
              "                                    True                0.103589\n",
              "               Seat belt            False               0.968295\n",
              "                                    True                0.031705\n",
              "               Speeding             False               0.973370\n",
              "                                    True                0.026630\n",
              "Name: search_conducted, dtype: float64"
            ]
          },
          "execution_count": 56,
          "metadata": {},
          "output_type": "execute_result"
        }
      ],
      "source": [
        "ri.groupby(['driver_gender', 'violation']).search_conducted.value_counts('Normalize')"
      ]
    },
    {
      "cell_type": "markdown",
      "metadata": {
        "id": "fbsd854Rvs4b"
      },
      "source": [
        "**INSTRUCTIONS 2/2**\n",
        "\n",
        "*   Reverse the ordering to group by violation before gender. The results may be easier to compare when presented this way."
      ]
    },
    {
      "cell_type": "code",
      "execution_count": null,
      "metadata": {
        "id": "XYU14z3jvs4c"
      },
      "outputs": [],
      "source": [
        "# CODE HERE"
      ]
    },
    {
      "cell_type": "code",
      "execution_count": null,
      "metadata": {
        "id": "lGBs2GKdvs4d",
        "outputId": "6c53a88c-c1ed-4b20-81b3-5b1c30f73f36"
      },
      "outputs": [
        {
          "data": {
            "text/plain": [
              "violation            driver_gender\n",
              "Equipment            F                0.040245\n",
              "                     M                0.070916\n",
              "Moving violation     F                0.038021\n",
              "                     M                0.059156\n",
              "Other                F                0.045898\n",
              "                     M                0.046120\n",
              "Registration/plates  F                0.054700\n",
              "                     M                0.103589\n",
              "Seat belt            F                0.017746\n",
              "                     M                0.031705\n",
              "Speeding             F                0.007738\n",
              "                     M                0.026630\n",
              "Name: search_conducted, dtype: float64"
            ]
          },
          "execution_count": 58,
          "metadata": {},
          "output_type": "execute_result"
        }
      ],
      "source": [
        "ri.groupby(['violation', 'driver_gender']).search_conducted.mean()"
      ]
    },
    {
      "cell_type": "code",
      "execution_count": null,
      "metadata": {
        "id": "5jYkVoiLvs4d",
        "outputId": "70825124-d3a0-4182-d44e-7c4b121908bc"
      },
      "outputs": [
        {
          "data": {
            "text/plain": [
              "violation            driver_gender  search_conducted\n",
              "Equipment            F              False               0.959755\n",
              "                                    True                0.040245\n",
              "                     M              False               0.929084\n",
              "                                    True                0.070916\n",
              "Moving violation     F              False               0.961979\n",
              "                                    True                0.038021\n",
              "                     M              False               0.940844\n",
              "                                    True                0.059156\n",
              "Other                F              False               0.954102\n",
              "                                    True                0.045898\n",
              "                     M              False               0.953880\n",
              "                                    True                0.046120\n",
              "Registration/plates  F              False               0.945300\n",
              "                                    True                0.054700\n",
              "                     M              False               0.896411\n",
              "                                    True                0.103589\n",
              "Seat belt            F              False               0.982254\n",
              "                                    True                0.017746\n",
              "                     M              False               0.968295\n",
              "                                    True                0.031705\n",
              "Speeding             F              False               0.992262\n",
              "                                    True                0.007738\n",
              "                     M              False               0.973370\n",
              "                                    True                0.026630\n",
              "Name: search_conducted, dtype: float64"
            ]
          },
          "execution_count": 59,
          "metadata": {},
          "output_type": "execute_result"
        }
      ],
      "source": [
        "ri.groupby(['violation', 'driver_gender']).search_conducted.value_counts(normalize=True)"
      ]
    },
    {
      "cell_type": "markdown",
      "metadata": {
        "id": "TumlyltEvs4p"
      },
      "source": [
        "***"
      ]
    },
    {
      "cell_type": "markdown",
      "metadata": {
        "id": "rFcVtfVzvs4q"
      },
      "source": [
        "## Counting protective frisks"
      ]
    },
    {
      "cell_type": "markdown",
      "metadata": {
        "id": "4koBM6-fvs4s"
      },
      "source": [
        "During a vehicle search, the police officer may pat down the driver to check if they have a weapon. This is known as a ``'protective frisk.'``\n",
        "\n",
        "You'll first check to see how many times 'Protective Frisk' was the only search type. Then, you'll use a string method to locate all instances in which the driver was frisked."
      ]
    },
    {
      "cell_type": "markdown",
      "metadata": {
        "id": "jTaxQbSLvs4t"
      },
      "source": [
        "**INSTRUCTIONS**\n",
        "\n",
        "*   Count the ``search_type`` values to see how many times ``'Protective Frisk'`` was the only search type.\n",
        "*   Create a new column, frisk, that is ``True`` if ``search_type`` contains the string ``'Protective Frisk'`` and ``False`` otherwise.\n",
        "*   Check the data type of frisk to confirm that it's a ``Boolean Series``.\n",
        "*   Take the sum of frisk to count the total number of frisks."
      ]
    },
    {
      "cell_type": "code",
      "execution_count": null,
      "metadata": {
        "id": "MERZ_YVyvs4t"
      },
      "outputs": [],
      "source": [
        "# CODE HERE"
      ]
    },
    {
      "cell_type": "code",
      "execution_count": null,
      "metadata": {
        "id": "0fXvw0k-vs4u",
        "outputId": "da9359f8-ca67-4f84-90be-441f3e7467ea"
      },
      "outputs": [
        {
          "data": {
            "text/plain": [
              "NaN                                                         462822\n",
              "Incident to Arrest                                            6998\n",
              "Probable Cause                                                4989\n",
              "Reasonable Suspicion                                          1141\n",
              "Inventory                                                     1101\n",
              "Protective Frisk                                               879\n",
              "Incident to Arrest,Inventory                                   649\n",
              "Incident to Arrest,Probable Cause                              552\n",
              "Probable Cause,Reasonable Suspicion                            334\n",
              "Probable Cause,Protective Frisk                                221\n",
              "Incident to Arrest,Protective Frisk                            158\n",
              "Incident to Arrest,Inventory,Probable Cause                    151\n",
              "Inventory,Probable Cause                                       132\n",
              "Protective Frisk,Reasonable Suspicion                           83\n",
              "Incident to Arrest,Inventory,Protective Frisk                   77\n",
              "Incident to Arrest,Probable Cause,Protective Frisk              74\n",
              "Inventory,Protective Frisk                                      52\n",
              "Incident to Arrest,Reasonable Suspicion                         49\n",
              "Probable Cause,Protective Frisk,Reasonable Suspicion            31\n",
              "Incident to Arrest,Probable Cause,Reasonable Suspicion          31\n",
              "Inventory,Reasonable Suspicion                                  17\n",
              "Inventory,Probable Cause,Protective Frisk                       14\n",
              "Incident to Arrest,Inventory,Reasonable Suspicion               12\n",
              "Incident to Arrest,Protective Frisk,Reasonable Suspicion         8\n",
              "Inventory,Probable Cause,Reasonable Suspicion                    8\n",
              "Inventory,Protective Frisk,Reasonable Suspicion                  1\n",
              "Name: search_type, dtype: int64"
            ]
          },
          "execution_count": 60,
          "metadata": {},
          "output_type": "execute_result"
        }
      ],
      "source": [
        "ri.search_type.value_counts(dropna=False)"
      ]
    },
    {
      "cell_type": "code",
      "execution_count": null,
      "metadata": {
        "id": "viMqG8tkvs4v"
      },
      "outputs": [],
      "source": [
        "# CODE HERE"
      ]
    },
    {
      "cell_type": "code",
      "execution_count": null,
      "metadata": {
        "id": "CzeaN71Tvs4w",
        "outputId": "e57c1135-f166-4d9e-b81c-72a97a43435b"
      },
      "outputs": [
        {
          "data": {
            "text/html": [
              "<div>\n",
              "<style scoped>\n",
              "    .dataframe tbody tr th:only-of-type {\n",
              "        vertical-align: middle;\n",
              "    }\n",
              "\n",
              "    .dataframe tbody tr th {\n",
              "        vertical-align: top;\n",
              "    }\n",
              "\n",
              "    .dataframe thead th {\n",
              "        text-align: right;\n",
              "    }\n",
              "</style>\n",
              "<table border=\"1\" class=\"dataframe\">\n",
              "  <thead>\n",
              "    <tr style=\"text-align: right;\">\n",
              "      <th></th>\n",
              "      <th>id</th>\n",
              "      <th>state</th>\n",
              "      <th>location_raw</th>\n",
              "      <th>police_department</th>\n",
              "      <th>driver_gender</th>\n",
              "      <th>driver_age_raw</th>\n",
              "      <th>driver_age</th>\n",
              "      <th>driver_race_raw</th>\n",
              "      <th>driver_race</th>\n",
              "      <th>violation_raw</th>\n",
              "      <th>...</th>\n",
              "      <th>search_type_raw</th>\n",
              "      <th>search_type</th>\n",
              "      <th>contraband_found</th>\n",
              "      <th>stop_outcome</th>\n",
              "      <th>is_arrested</th>\n",
              "      <th>stop_duration</th>\n",
              "      <th>out_of_state</th>\n",
              "      <th>drugs_related_stop</th>\n",
              "      <th>district</th>\n",
              "      <th>frisk</th>\n",
              "    </tr>\n",
              "  </thead>\n",
              "  <tbody>\n",
              "    <tr>\n",
              "      <th>0</th>\n",
              "      <td>RI-2005-00001</td>\n",
              "      <td>RI</td>\n",
              "      <td>Zone K1</td>\n",
              "      <td>600</td>\n",
              "      <td>M</td>\n",
              "      <td>1985.0</td>\n",
              "      <td>20.0</td>\n",
              "      <td>W</td>\n",
              "      <td>White</td>\n",
              "      <td>Speeding</td>\n",
              "      <td>...</td>\n",
              "      <td>NaN</td>\n",
              "      <td>NaN</td>\n",
              "      <td>False</td>\n",
              "      <td>Citation</td>\n",
              "      <td>False</td>\n",
              "      <td>0-15 Min</td>\n",
              "      <td>False</td>\n",
              "      <td>False</td>\n",
              "      <td>Zone K1</td>\n",
              "      <td>False</td>\n",
              "    </tr>\n",
              "  </tbody>\n",
              "</table>\n",
              "<p>1 rows × 22 columns</p>\n",
              "</div>"
            ],
            "text/plain": [
              "              id state location_raw police_department driver_gender  \\\n",
              "0  RI-2005-00001    RI      Zone K1               600             M   \n",
              "\n",
              "   driver_age_raw  driver_age driver_race_raw driver_race violation_raw  ...  \\\n",
              "0          1985.0        20.0               W       White      Speeding  ...   \n",
              "\n",
              "  search_type_raw  search_type contraband_found stop_outcome  is_arrested  \\\n",
              "0             NaN          NaN            False     Citation        False   \n",
              "\n",
              "  stop_duration  out_of_state drugs_related_stop district  frisk  \n",
              "0      0-15 Min         False              False  Zone K1  False  \n",
              "\n",
              "[1 rows x 22 columns]"
            ]
          },
          "execution_count": 61,
          "metadata": {},
          "output_type": "execute_result"
        }
      ],
      "source": [
        "ri['frisk'] = ri.search_type.str.contains('Protective Frisk', na=False)\n",
        "ri.head(1)"
      ]
    },
    {
      "cell_type": "code",
      "execution_count": null,
      "metadata": {
        "id": "hwBPNAvRvs4x"
      },
      "outputs": [],
      "source": [
        "# CODE HERE"
      ]
    },
    {
      "cell_type": "code",
      "execution_count": null,
      "metadata": {
        "id": "EZxwu8XVvs4y",
        "outputId": "029cac2c-281d-456a-a0c6-ba8a229f6fe8"
      },
      "outputs": [
        {
          "data": {
            "text/plain": [
              "dtype('bool')"
            ]
          },
          "execution_count": 62,
          "metadata": {},
          "output_type": "execute_result"
        }
      ],
      "source": [
        "ri['frisk'].dtype"
      ]
    },
    {
      "cell_type": "code",
      "execution_count": null,
      "metadata": {
        "id": "dMObsowEvs40"
      },
      "outputs": [],
      "source": [
        "# CODE HERE"
      ]
    },
    {
      "cell_type": "code",
      "execution_count": null,
      "metadata": {
        "id": "mUvW0A14vs41",
        "outputId": "a802637f-2983-46fd-ed41-c3d45c843dd2"
      },
      "outputs": [
        {
          "data": {
            "text/plain": [
              "1598"
            ]
          },
          "execution_count": 63,
          "metadata": {},
          "output_type": "execute_result"
        }
      ],
      "source": [
        "#ri.frisk.sum()\n",
        "ri['frisk'].sum()"
      ]
    },
    {
      "cell_type": "code",
      "execution_count": null,
      "metadata": {
        "id": "R_RowH-Yvs42",
        "outputId": "75e27381-e21b-4812-83b4-4eda3545663b"
      },
      "outputs": [
        {
          "data": {
            "text/plain": [
              "False    478986\n",
              "True       1598\n",
              "Name: frisk, dtype: int64"
            ]
          },
          "execution_count": 64,
          "metadata": {},
          "output_type": "execute_result"
        }
      ],
      "source": [
        "ri['frisk'].value_counts(dropna=False)"
      ]
    },
    {
      "cell_type": "code",
      "execution_count": null,
      "metadata": {
        "id": "I0dEbwddvs43"
      },
      "outputs": [],
      "source": [
        "# ALTERNATIVE FOR CREATING FRISK COLUMN WITH APPLY"
      ]
    },
    {
      "cell_type": "code",
      "execution_count": null,
      "metadata": {
        "id": "QA67Ky9fvs44"
      },
      "outputs": [],
      "source": [
        "# def frisk(a):\n",
        "#     b = 'Protective Frisk'\n",
        "#     if  b in ri.columns :\n",
        "#         return True\n",
        "#     else:\n",
        "#         return False"
      ]
    },
    {
      "cell_type": "code",
      "execution_count": null,
      "metadata": {
        "id": "PsqRzcvZvs44"
      },
      "outputs": [],
      "source": [
        "#riV = ri.copy()\n",
        "#riV.head(1)"
      ]
    },
    {
      "cell_type": "code",
      "execution_count": null,
      "metadata": {
        "id": "gK6HX0C-vs45"
      },
      "outputs": [],
      "source": [
        "#riV['frisk'] = riV['search_type'].apply(frisk)\n",
        "#riV.head(1)"
      ]
    },
    {
      "cell_type": "code",
      "execution_count": null,
      "metadata": {
        "id": "JpE8RPMkvs46"
      },
      "outputs": [],
      "source": [
        "#riV['frisk'].dtype"
      ]
    },
    {
      "cell_type": "code",
      "execution_count": null,
      "metadata": {
        "id": "407nOgT8vs49"
      },
      "outputs": [],
      "source": [
        "#riV['frisk'].sum()"
      ]
    },
    {
      "cell_type": "code",
      "execution_count": null,
      "metadata": {
        "id": "N2pg1CkEvs49"
      },
      "outputs": [],
      "source": [
        "#riV['frisk'].value_counts(dropna=False)"
      ]
    },
    {
      "cell_type": "markdown",
      "metadata": {
        "id": "bibfKUe4vs4-"
      },
      "source": [
        "***"
      ]
    },
    {
      "cell_type": "markdown",
      "metadata": {
        "id": "wWN3no0ovs4_"
      },
      "source": [
        "## Comparing frisk rates by gender"
      ]
    },
    {
      "cell_type": "markdown",
      "metadata": {
        "id": "5tJXWMPtvs4_"
      },
      "source": [
        "You'll compare the rates at which female and male drivers are frisked during a search. Are males frisked more often than females, perhaps because police officers consider them to be higher risk?\n",
        "\n",
        "Before doing any calculations, it's important to filter the ``DataFrame`` to only include the relevant subset of data, namely stops in which a search was conducted."
      ]
    },
    {
      "cell_type": "markdown",
      "metadata": {
        "id": "TQ89KCBuvs5A"
      },
      "source": [
        "**INSTRUCTIONS**\n",
        "\n",
        "*   Create a ``DataFrame``, searched, that only contains rows in which ``search_conducted`` is ``True``.\n",
        "*   Take the mean of the frisk column to find out what percentage of searches included a frisk.\n",
        "*   Calculate the frisk rate for each gender using a ``.groupby()``."
      ]
    },
    {
      "cell_type": "code",
      "execution_count": null,
      "metadata": {
        "id": "Az0NbF8ovs5A"
      },
      "outputs": [],
      "source": [
        "# CODE HERE"
      ]
    },
    {
      "cell_type": "code",
      "execution_count": null,
      "metadata": {
        "id": "I76q178dvs5B",
        "outputId": "ab96dd13-4335-4ef0-f89e-b173c0293ff2"
      },
      "outputs": [
        {
          "data": {
            "text/html": [
              "<div>\n",
              "<style scoped>\n",
              "    .dataframe tbody tr th:only-of-type {\n",
              "        vertical-align: middle;\n",
              "    }\n",
              "\n",
              "    .dataframe tbody tr th {\n",
              "        vertical-align: top;\n",
              "    }\n",
              "\n",
              "    .dataframe thead th {\n",
              "        text-align: right;\n",
              "    }\n",
              "</style>\n",
              "<table border=\"1\" class=\"dataframe\">\n",
              "  <thead>\n",
              "    <tr style=\"text-align: right;\">\n",
              "      <th></th>\n",
              "      <th>id</th>\n",
              "      <th>state</th>\n",
              "      <th>location_raw</th>\n",
              "      <th>police_department</th>\n",
              "      <th>driver_gender</th>\n",
              "      <th>driver_age_raw</th>\n",
              "      <th>driver_age</th>\n",
              "      <th>driver_race_raw</th>\n",
              "      <th>driver_race</th>\n",
              "      <th>violation_raw</th>\n",
              "      <th>...</th>\n",
              "      <th>search_type_raw</th>\n",
              "      <th>search_type</th>\n",
              "      <th>contraband_found</th>\n",
              "      <th>stop_outcome</th>\n",
              "      <th>is_arrested</th>\n",
              "      <th>stop_duration</th>\n",
              "      <th>out_of_state</th>\n",
              "      <th>drugs_related_stop</th>\n",
              "      <th>district</th>\n",
              "      <th>frisk</th>\n",
              "    </tr>\n",
              "  </thead>\n",
              "  <tbody>\n",
              "    <tr>\n",
              "      <th>8</th>\n",
              "      <td>RI-2005-00010</td>\n",
              "      <td>RI</td>\n",
              "      <td>Zone K1</td>\n",
              "      <td>600</td>\n",
              "      <td>M</td>\n",
              "      <td>1987.0</td>\n",
              "      <td>18.0</td>\n",
              "      <td>W</td>\n",
              "      <td>White</td>\n",
              "      <td>Speeding</td>\n",
              "      <td>...</td>\n",
              "      <td>Probable Cause</td>\n",
              "      <td>Probable Cause</td>\n",
              "      <td>True</td>\n",
              "      <td>Citation</td>\n",
              "      <td>False</td>\n",
              "      <td>0-15 Min</td>\n",
              "      <td>True</td>\n",
              "      <td>True</td>\n",
              "      <td>Zone K1</td>\n",
              "      <td>False</td>\n",
              "    </tr>\n",
              "  </tbody>\n",
              "</table>\n",
              "<p>1 rows × 22 columns</p>\n",
              "</div>"
            ],
            "text/plain": [
              "              id state location_raw police_department driver_gender  \\\n",
              "8  RI-2005-00010    RI      Zone K1               600             M   \n",
              "\n",
              "   driver_age_raw  driver_age driver_race_raw driver_race violation_raw  ...  \\\n",
              "8          1987.0        18.0               W       White      Speeding  ...   \n",
              "\n",
              "  search_type_raw     search_type contraband_found stop_outcome  is_arrested  \\\n",
              "8  Probable Cause  Probable Cause             True     Citation        False   \n",
              "\n",
              "  stop_duration  out_of_state drugs_related_stop district  frisk  \n",
              "8      0-15 Min          True               True  Zone K1  False  \n",
              "\n",
              "[1 rows x 22 columns]"
            ]
          },
          "execution_count": 65,
          "metadata": {},
          "output_type": "execute_result"
        }
      ],
      "source": [
        "# searched = ri[ri['search_conducted']]\n",
        "searched = ri[ri['search_conducted'] == True]\n",
        "searched.head(1)"
      ]
    },
    {
      "cell_type": "code",
      "execution_count": null,
      "metadata": {
        "id": "FpomxRLEvs5D"
      },
      "outputs": [],
      "source": [
        "# CODE HERE"
      ]
    },
    {
      "cell_type": "code",
      "execution_count": null,
      "metadata": {
        "id": "D7FIJORqvs5G",
        "outputId": "c2718b5d-465b-4b4a-e619-6f08229ca8e6"
      },
      "outputs": [
        {
          "data": {
            "text/plain": [
              "0.08996734601959239"
            ]
          },
          "execution_count": 94,
          "metadata": {},
          "output_type": "execute_result"
        }
      ],
      "source": [
        "searched['frisk'].mean()"
      ]
    },
    {
      "cell_type": "code",
      "execution_count": null,
      "metadata": {
        "id": "BJz3T1aEvs5H"
      },
      "outputs": [],
      "source": [
        "# CODE HERE"
      ]
    },
    {
      "cell_type": "code",
      "execution_count": null,
      "metadata": {
        "id": "WdUr1rT0vs5I",
        "outputId": "33244326-62dc-4332-a0a2-8160098ce9b0"
      },
      "outputs": [
        {
          "data": {
            "text/plain": [
              "driver_gender\n",
              "F    0.066694\n",
              "M    0.093707\n",
              "Name: frisk, dtype: float64"
            ]
          },
          "execution_count": 67,
          "metadata": {},
          "output_type": "execute_result"
        }
      ],
      "source": [
        "searched.groupby(['driver_gender']).frisk.mean()"
      ]
    },
    {
      "cell_type": "code",
      "execution_count": null,
      "metadata": {
        "id": "Owkia4TPvs5J",
        "outputId": "17da4630-fd67-43a1-b382-93b39a6c3200"
      },
      "outputs": [
        {
          "data": {
            "text/plain": [
              "driver_gender  frisk\n",
              "F              False    0.933306\n",
              "               True     0.066694\n",
              "M              False    0.906293\n",
              "               True     0.093707\n",
              "Name: frisk, dtype: float64"
            ]
          },
          "execution_count": 68,
          "metadata": {},
          "output_type": "execute_result"
        }
      ],
      "source": [
        "searched.groupby(['driver_gender']).frisk.value_counts('Normalize')"
      ]
    },
    {
      "cell_type": "markdown",
      "metadata": {
        "id": "iWjdFGvmvs5K"
      },
      "source": [
        "___\n",
        "\n",
        "<p style='text-align: center;'><img src='https://docs.google.com/uc?id=1lY0Uj5R04yMY3-ZppPWxqCr5pvBLYPnV' class='img-fluid' alt='CLRSWY'></p>\n",
        "\n",
        "___"
      ]
    },
    {
      "cell_type": "markdown",
      "metadata": {
        "id": "Nlxdy5f2vs5L"
      },
      "source": [
        "**- Please save the edits made so far to a new csv file with the name RI_Part_2 to use it in the next step.**\n",
        "\n",
        "**- Load and read new csv file.**\n",
        "\n",
        "**- Check the first five rows.***\n",
        "\n",
        "**- Check the shape of the dataframe.**"
      ]
    },
    {
      "cell_type": "code",
      "execution_count": null,
      "metadata": {
        "id": "I9QRBIHhvs5Q"
      },
      "outputs": [],
      "source": [
        "ri.to_csv('RI_Part_2.csv', index = False)"
      ]
    },
    {
      "cell_type": "code",
      "execution_count": null,
      "metadata": {
        "id": "XrDWe0eNvs5Q",
        "outputId": "4cd48a33-ea27-4e8e-8a2d-e870579972d6"
      },
      "outputs": [
        {
          "name": "stderr",
          "output_type": "stream",
          "text": [
            "C:\\Users\\Toshiba\\anaconda3\\lib\\site-packages\\IPython\\core\\interactiveshell.py:3444: DtypeWarning: Columns (3) have mixed types.Specify dtype option on import or set low_memory=False.\n",
            "  exec(code_obj, self.user_global_ns, self.user_ns)\n"
          ]
        },
        {
          "data": {
            "text/html": [
              "<div>\n",
              "<style scoped>\n",
              "    .dataframe tbody tr th:only-of-type {\n",
              "        vertical-align: middle;\n",
              "    }\n",
              "\n",
              "    .dataframe tbody tr th {\n",
              "        vertical-align: top;\n",
              "    }\n",
              "\n",
              "    .dataframe thead th {\n",
              "        text-align: right;\n",
              "    }\n",
              "</style>\n",
              "<table border=\"1\" class=\"dataframe\">\n",
              "  <thead>\n",
              "    <tr style=\"text-align: right;\">\n",
              "      <th></th>\n",
              "      <th>id</th>\n",
              "      <th>state</th>\n",
              "      <th>location_raw</th>\n",
              "      <th>police_department</th>\n",
              "      <th>driver_gender</th>\n",
              "      <th>driver_age_raw</th>\n",
              "      <th>driver_age</th>\n",
              "      <th>driver_race_raw</th>\n",
              "      <th>driver_race</th>\n",
              "      <th>violation_raw</th>\n",
              "      <th>...</th>\n",
              "      <th>search_type_raw</th>\n",
              "      <th>search_type</th>\n",
              "      <th>contraband_found</th>\n",
              "      <th>stop_outcome</th>\n",
              "      <th>is_arrested</th>\n",
              "      <th>stop_duration</th>\n",
              "      <th>out_of_state</th>\n",
              "      <th>drugs_related_stop</th>\n",
              "      <th>district</th>\n",
              "      <th>frisk</th>\n",
              "    </tr>\n",
              "  </thead>\n",
              "  <tbody>\n",
              "    <tr>\n",
              "      <th>0</th>\n",
              "      <td>RI-2005-00001</td>\n",
              "      <td>RI</td>\n",
              "      <td>Zone K1</td>\n",
              "      <td>600</td>\n",
              "      <td>M</td>\n",
              "      <td>1985.0</td>\n",
              "      <td>20.0</td>\n",
              "      <td>W</td>\n",
              "      <td>White</td>\n",
              "      <td>Speeding</td>\n",
              "      <td>...</td>\n",
              "      <td>NaN</td>\n",
              "      <td>NaN</td>\n",
              "      <td>False</td>\n",
              "      <td>Citation</td>\n",
              "      <td>False</td>\n",
              "      <td>0-15 Min</td>\n",
              "      <td>False</td>\n",
              "      <td>False</td>\n",
              "      <td>Zone K1</td>\n",
              "      <td>False</td>\n",
              "    </tr>\n",
              "    <tr>\n",
              "      <th>1</th>\n",
              "      <td>RI-2005-00002</td>\n",
              "      <td>RI</td>\n",
              "      <td>Zone X4</td>\n",
              "      <td>500</td>\n",
              "      <td>M</td>\n",
              "      <td>1987.0</td>\n",
              "      <td>18.0</td>\n",
              "      <td>W</td>\n",
              "      <td>White</td>\n",
              "      <td>Speeding</td>\n",
              "      <td>...</td>\n",
              "      <td>NaN</td>\n",
              "      <td>NaN</td>\n",
              "      <td>False</td>\n",
              "      <td>Citation</td>\n",
              "      <td>False</td>\n",
              "      <td>16-30 Min</td>\n",
              "      <td>False</td>\n",
              "      <td>False</td>\n",
              "      <td>Zone X4</td>\n",
              "      <td>False</td>\n",
              "    </tr>\n",
              "    <tr>\n",
              "      <th>2</th>\n",
              "      <td>RI-2005-00004</td>\n",
              "      <td>RI</td>\n",
              "      <td>Zone X4</td>\n",
              "      <td>500</td>\n",
              "      <td>M</td>\n",
              "      <td>1986.0</td>\n",
              "      <td>19.0</td>\n",
              "      <td>W</td>\n",
              "      <td>White</td>\n",
              "      <td>Equipment/Inspection Violation</td>\n",
              "      <td>...</td>\n",
              "      <td>NaN</td>\n",
              "      <td>NaN</td>\n",
              "      <td>False</td>\n",
              "      <td>Citation</td>\n",
              "      <td>False</td>\n",
              "      <td>0-15 Min</td>\n",
              "      <td>False</td>\n",
              "      <td>False</td>\n",
              "      <td>Zone X4</td>\n",
              "      <td>False</td>\n",
              "    </tr>\n",
              "    <tr>\n",
              "      <th>3</th>\n",
              "      <td>RI-2005-00005</td>\n",
              "      <td>RI</td>\n",
              "      <td>Zone X4</td>\n",
              "      <td>500</td>\n",
              "      <td>M</td>\n",
              "      <td>1978.0</td>\n",
              "      <td>27.0</td>\n",
              "      <td>B</td>\n",
              "      <td>Black</td>\n",
              "      <td>Equipment/Inspection Violation</td>\n",
              "      <td>...</td>\n",
              "      <td>NaN</td>\n",
              "      <td>NaN</td>\n",
              "      <td>False</td>\n",
              "      <td>Citation</td>\n",
              "      <td>False</td>\n",
              "      <td>0-15 Min</td>\n",
              "      <td>False</td>\n",
              "      <td>False</td>\n",
              "      <td>Zone X4</td>\n",
              "      <td>False</td>\n",
              "    </tr>\n",
              "    <tr>\n",
              "      <th>4</th>\n",
              "      <td>RI-2005-00006</td>\n",
              "      <td>RI</td>\n",
              "      <td>Zone X1</td>\n",
              "      <td>0</td>\n",
              "      <td>M</td>\n",
              "      <td>1973.0</td>\n",
              "      <td>32.0</td>\n",
              "      <td>B</td>\n",
              "      <td>Black</td>\n",
              "      <td>Call for Service</td>\n",
              "      <td>...</td>\n",
              "      <td>NaN</td>\n",
              "      <td>NaN</td>\n",
              "      <td>False</td>\n",
              "      <td>Citation</td>\n",
              "      <td>False</td>\n",
              "      <td>30+ Min</td>\n",
              "      <td>True</td>\n",
              "      <td>False</td>\n",
              "      <td>Zone X1</td>\n",
              "      <td>False</td>\n",
              "    </tr>\n",
              "  </tbody>\n",
              "</table>\n",
              "<p>5 rows × 22 columns</p>\n",
              "</div>"
            ],
            "text/plain": [
              "              id state location_raw police_department driver_gender  \\\n",
              "0  RI-2005-00001    RI      Zone K1               600             M   \n",
              "1  RI-2005-00002    RI      Zone X4               500             M   \n",
              "2  RI-2005-00004    RI      Zone X4               500             M   \n",
              "3  RI-2005-00005    RI      Zone X4               500             M   \n",
              "4  RI-2005-00006    RI      Zone X1                 0             M   \n",
              "\n",
              "   driver_age_raw  driver_age driver_race_raw driver_race  \\\n",
              "0          1985.0        20.0               W       White   \n",
              "1          1987.0        18.0               W       White   \n",
              "2          1986.0        19.0               W       White   \n",
              "3          1978.0        27.0               B       Black   \n",
              "4          1973.0        32.0               B       Black   \n",
              "\n",
              "                    violation_raw  ... search_type_raw  search_type  \\\n",
              "0                        Speeding  ...             NaN          NaN   \n",
              "1                        Speeding  ...             NaN          NaN   \n",
              "2  Equipment/Inspection Violation  ...             NaN          NaN   \n",
              "3  Equipment/Inspection Violation  ...             NaN          NaN   \n",
              "4                Call for Service  ...             NaN          NaN   \n",
              "\n",
              "  contraband_found stop_outcome  is_arrested stop_duration  out_of_state  \\\n",
              "0            False     Citation        False      0-15 Min         False   \n",
              "1            False     Citation        False     16-30 Min         False   \n",
              "2            False     Citation        False      0-15 Min         False   \n",
              "3            False     Citation        False      0-15 Min         False   \n",
              "4            False     Citation        False       30+ Min          True   \n",
              "\n",
              "  drugs_related_stop district  frisk  \n",
              "0              False  Zone K1  False  \n",
              "1              False  Zone X4  False  \n",
              "2              False  Zone X4  False  \n",
              "3              False  Zone X4  False  \n",
              "4              False  Zone X1  False  \n",
              "\n",
              "[5 rows x 22 columns]"
            ]
          },
          "execution_count": 72,
          "metadata": {},
          "output_type": "execute_result"
        }
      ],
      "source": [
        "ri = pd.read_csv('RI_Part_2.csv')\n",
        "ri.head()"
      ]
    },
    {
      "cell_type": "code",
      "execution_count": null,
      "metadata": {
        "id": "0cszwbMjvs5R",
        "outputId": "4f2a50ee-8266-436f-b07d-06e20d2ab35e"
      },
      "outputs": [
        {
          "data": {
            "text/plain": [
              "(480584, 22)"
            ]
          },
          "execution_count": 73,
          "metadata": {},
          "output_type": "execute_result"
        }
      ],
      "source": [
        "ri.shape"
      ]
    },
    {
      "cell_type": "markdown",
      "metadata": {
        "id": "KBCpXbQ-vs5S"
      },
      "source": [
        "___\n",
        "\n",
        "<p style='text-align: center;'><img src='https://docs.google.com/uc?id=1lY0Uj5R04yMY3-ZppPWxqCr5pvBLYPnV' class='img-fluid' alt='CLRSWY'></p>\n",
        "\n",
        "___"
      ]
    },
    {
      "cell_type": "code",
      "execution_count": null,
      "metadata": {
        "id": "7s7iUrUivs5U"
      },
      "outputs": [],
      "source": [
        ""
      ]
    }
  ],
  "metadata": {
    "kernelspec": {
      "display_name": "Python 3 (ipykernel)",
      "language": "python",
      "name": "python3"
    },
    "language_info": {
      "codemirror_mode": {
        "name": "ipython",
        "version": 3
      },
      "file_extension": ".py",
      "mimetype": "text/x-python",
      "name": "python",
      "nbconvert_exporter": "python",
      "pygments_lexer": "ipython3",
      "version": "3.8.12"
    },
    "colab": {
      "name": "TrafficPoliceStopProject_Part-2_Exploring_The_Relationship_Between_Gender_And_Policing_Solution.ipynb",
      "provenance": [],
      "include_colab_link": true
    }
  },
  "nbformat": 4,
  "nbformat_minor": 0
}